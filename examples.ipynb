{
 "cells": [
  {
   "cell_type": "code",
   "execution_count": 1,
   "metadata": {},
   "outputs": [],
   "source": [
    "from cp_log import cp_init_log, cp_log, cp_summarize_log"
   ]
  },
  {
   "cell_type": "code",
   "execution_count": 2,
   "metadata": {},
   "outputs": [
    {
     "name": "stdout",
     "output_type": "stream",
     "text": [
      "19:52:35.66 CST | INFO     | ==================================================\n",
      "19:52:35.66 CST | INFO     | Date     : February 15, 2024\n",
      "19:52:35.66 CST | INFO     | Analytic : Journal Entry Testing\n",
      "19:52:35.66 CST | INFO     | Reviewer : Molly Meehan\n",
      "19:52:35.66 CST | INFO     | Preparer : Lucas Nelson\n",
      "19:52:35.66 CST | INFO     | ==================================================\n",
      "19:52:35.66 CST | DEBUG    | (random_operation) Adding two numbers\n",
      "19:52:40.38 CST | SUCCESS  | (random_operation) Completed (4.72s)\n",
      "19:52:40.38 CST | DEBUG    | (random_operation) Adding two numbers\n",
      "19:52:44.86 CST | SUCCESS  | (random_operation) Completed (4.48s)\n",
      "19:52:44.87 CST | INFO     | ==================================================\n",
      "19:52:44.87 CST | INFO     | Script completed in 9.20s\n",
      "19:52:44.87 CST | INFO     | ERROR 0\tWARNING 0\tSUCCESS 2\n",
      "19:52:44.87 CST | INFO     | ==================================================\n"
     ]
    }
   ],
   "source": [
    "import sys\n",
    "from loguru import logger\n",
    "from datetime import datetime\n",
    "import time\n",
    "import random\n",
    "\n",
    "\n",
    "OUTPUT_LOGS = False\n",
    "\n",
    "### user does not see any of this\n",
    "LOG_FORMAT = \"{time:HH:mm:ss.SS zz} | {level:<8} | {message}\"\n",
    "LOG_DELIM = r\"\\s*\\|\\s*\"\n",
    "LOG_CASTING_FUNCTIONS = {f:lambda x: x.strip() for f in ('time', 'level', 'message')}\n",
    "LOG_PATTERN = f\"(?P<time>.*){LOG_DELIM}(?P<level>.*){LOG_DELIM}\\((?P<function>.*)\\)(?P<message>.*)\"\n",
    "config = {\n",
    "    \"handlers\": [\n",
    "        {\"sink\": sys.stdout, \"format\":LOG_FORMAT},\n",
    "        {\"sink\": f\"{__name__}.log\", 'format':LOG_FORMAT, 'mode':'w'}\n",
    "    ],\n",
    "    \"extra\": {\n",
    "        \"Date\": datetime.today().strftime('%B %d, %Y'),\n",
    "        \"Analytic\": \"Journal Entry Testing\",\n",
    "        \"Preparer\": \"Lucas Nelson\",\n",
    "        \"Reviewer\": \"Molly Meehan\"\n",
    "    }\n",
    "}\n",
    "logger.configure(**config)\n",
    "cp_init_log(config['extra'])\n",
    "### user does not see any of this\n",
    "\n",
    "\n",
    "@cp_log(message='Adding two numbers', eval=True)\n",
    "def random_operation(x, y, z):\n",
    "    time.sleep(random.random() * 5)\n",
    "    return x + y / z\n",
    "\n",
    "random_operation(x=1, y=2, z=3)\n",
    "random_operation(x=1, y=2, z=3)\n",
    "# random_operation(x=1, y=2, z=3)\n",
    "# random_operation(x=1, y=2, z=0)\n",
    "\n",
    "parsed_log = list(logger.parse('__main__.log', pattern=LOG_PATTERN, cast=LOG_CASTING_FUNCTIONS))\n",
    "cp_summarize_log(parsed_log)"
   ]
  },
  {
   "cell_type": "code",
   "execution_count": 9,
   "metadata": {},
   "outputs": [
    {
     "name": "stdout",
     "output_type": "stream",
     "text": [
      "20:08:48.39 CST | INFO     | ==================================================\n",
      "20:08:48.39 CST | INFO     | Date     : February 15, 2024\n",
      "20:08:48.39 CST | INFO     | Analytic : Journal Entry Testing\n",
      "20:08:48.39 CST | INFO     | Reviewer : Molly Meehan\n",
      "20:08:48.39 CST | INFO     | Preparer : Lucas Nelson\n",
      "20:08:48.39 CST | INFO     | ==================================================\n",
      "20:08:48.39 CST | DEBUG    | (load_data) Loading in data from {path}\n",
      "20:08:52.56 CST | SUCCESS  | (load_data) Completed (4.16s)\n",
      "20:08:52.56 CST | DEBUG    | (load_data) Loading in data from {path}\n",
      "20:08:55.33 CST | SUCCESS  | (load_data) Completed (2.77s)\n",
      "20:08:55.33 CST | DEBUG    | (load_data) Loading in data from {path}\n",
      "20:08:59.66 CST | SUCCESS  | (load_data) Completed (4.33s)\n",
      "20:08:59.66 CST | DEBUG    | (clean_data) Cleaning data: {data}\n",
      "20:09:02.35 CST | SUCCESS  | (clean_data) Completed (2.69s)\n",
      "20:09:02.35 CST | DEBUG    | (clean_data) Cleaning data: {data}\n",
      "20:09:06.14 CST | SUCCESS  | (clean_data) Completed (3.79s)\n",
      "20:09:06.14 CST | DEBUG    | (clean_data) Cleaning data: {data}\n",
      "20:09:07.88 CST | SUCCESS  | (clean_data) Completed (1.75s)\n",
      "20:09:07.88 CST | DEBUG    | (custom_function) Removing AR transaction types\n",
      "20:09:10.73 CST | SUCCESS  | (custom_function) Completed (2.85s)\n",
      "20:09:10.73 CST | DEBUG    | (write_data) Writing {data} to {path}\n",
      "20:09:14.72 CST | SUCCESS  | (write_data) Completed (3.98s)\n",
      "20:09:14.72 CST | DEBUG    | (write_data) Writing {data} to {path}\n",
      "20:09:19.44 CST | SUCCESS  | (write_data) Completed (4.72s)\n",
      "20:09:19.44 CST | DEBUG    | (write_data) Writing {data} to {path}\n",
      "20:09:24.28 CST | SUCCESS  | (write_data) Completed (4.84s)\n"
     ]
    },
    {
     "name": "stderr",
     "output_type": "stream",
     "text": [
      "Traceback (most recent call last):\n",
      "  File \"/Users/lucasnelson/Desktop/lunelson-deloitte/cp_logger/example_script.py\", line 73, in <module>\n",
      "    cp_summarize_log(parsed_log)\n",
      "  File \"/Users/lucasnelson/Desktop/lunelson-deloitte/cp_logger/cp_log.py\", line 25, in cp_summarize_log\n",
      "    runtime = cp_timer(\n",
      "  File \"/Users/lucasnelson/Desktop/lunelson-deloitte/cp_logger/cp_log.py\", line 90, in cp_timer\n",
      "    return format(runtime(start, end))\n",
      "  File \"/Users/lucasnelson/Desktop/lunelson-deloitte/cp_logger/cp_log.py\", line 84, in runtime\n",
      "    if isinstance(start, datetime.datetime):\n",
      "AttributeError: type object 'datetime.datetime' has no attribute 'datetime'\n"
     ]
    },
    {
     "ename": "CalledProcessError",
     "evalue": "Command 'b'\\npython3 example_script.py\\n'' returned non-zero exit status 1.",
     "output_type": "error",
     "traceback": [
      "\u001b[0;31m---------------------------------------------------------------------------\u001b[0m",
      "\u001b[0;31mCalledProcessError\u001b[0m                        Traceback (most recent call last)",
      "Cell \u001b[0;32mIn[9], line 1\u001b[0m\n\u001b[0;32m----> 1\u001b[0m \u001b[43mget_ipython\u001b[49m\u001b[43m(\u001b[49m\u001b[43m)\u001b[49m\u001b[38;5;241;43m.\u001b[39;49m\u001b[43mrun_cell_magic\u001b[49m\u001b[43m(\u001b[49m\u001b[38;5;124;43m'\u001b[39;49m\u001b[38;5;124;43mbash\u001b[39;49m\u001b[38;5;124;43m'\u001b[39;49m\u001b[43m,\u001b[49m\u001b[43m \u001b[49m\u001b[38;5;124;43m'\u001b[39;49m\u001b[38;5;124;43m'\u001b[39;49m\u001b[43m,\u001b[49m\u001b[43m \u001b[49m\u001b[38;5;124;43m'\u001b[39;49m\u001b[38;5;130;43;01m\\n\u001b[39;49;00m\u001b[38;5;124;43mpython3 example_script.py\u001b[39;49m\u001b[38;5;130;43;01m\\n\u001b[39;49;00m\u001b[38;5;124;43m'\u001b[39;49m\u001b[43m)\u001b[49m\n",
      "File \u001b[0;32m/Library/Frameworks/Python.framework/Versions/3.10/lib/python3.10/site-packages/IPython/core/interactiveshell.py:2430\u001b[0m, in \u001b[0;36mInteractiveShell.run_cell_magic\u001b[0;34m(self, magic_name, line, cell)\u001b[0m\n\u001b[1;32m   2428\u001b[0m \u001b[38;5;28;01mwith\u001b[39;00m \u001b[38;5;28mself\u001b[39m\u001b[38;5;241m.\u001b[39mbuiltin_trap:\n\u001b[1;32m   2429\u001b[0m     args \u001b[38;5;241m=\u001b[39m (magic_arg_s, cell)\n\u001b[0;32m-> 2430\u001b[0m     result \u001b[38;5;241m=\u001b[39m \u001b[43mfn\u001b[49m\u001b[43m(\u001b[49m\u001b[38;5;241;43m*\u001b[39;49m\u001b[43margs\u001b[49m\u001b[43m,\u001b[49m\u001b[43m \u001b[49m\u001b[38;5;241;43m*\u001b[39;49m\u001b[38;5;241;43m*\u001b[39;49m\u001b[43mkwargs\u001b[49m\u001b[43m)\u001b[49m\n\u001b[1;32m   2432\u001b[0m \u001b[38;5;66;03m# The code below prevents the output from being displayed\u001b[39;00m\n\u001b[1;32m   2433\u001b[0m \u001b[38;5;66;03m# when using magics with decodator @output_can_be_silenced\u001b[39;00m\n\u001b[1;32m   2434\u001b[0m \u001b[38;5;66;03m# when the last Python token in the expression is a ';'.\u001b[39;00m\n\u001b[1;32m   2435\u001b[0m \u001b[38;5;28;01mif\u001b[39;00m \u001b[38;5;28mgetattr\u001b[39m(fn, magic\u001b[38;5;241m.\u001b[39mMAGIC_OUTPUT_CAN_BE_SILENCED, \u001b[38;5;28;01mFalse\u001b[39;00m):\n",
      "File \u001b[0;32m/Library/Frameworks/Python.framework/Versions/3.10/lib/python3.10/site-packages/IPython/core/magics/script.py:153\u001b[0m, in \u001b[0;36mScriptMagics._make_script_magic.<locals>.named_script_magic\u001b[0;34m(line, cell)\u001b[0m\n\u001b[1;32m    151\u001b[0m \u001b[38;5;28;01melse\u001b[39;00m:\n\u001b[1;32m    152\u001b[0m     line \u001b[38;5;241m=\u001b[39m script\n\u001b[0;32m--> 153\u001b[0m \u001b[38;5;28;01mreturn\u001b[39;00m \u001b[38;5;28;43mself\u001b[39;49m\u001b[38;5;241;43m.\u001b[39;49m\u001b[43mshebang\u001b[49m\u001b[43m(\u001b[49m\u001b[43mline\u001b[49m\u001b[43m,\u001b[49m\u001b[43m \u001b[49m\u001b[43mcell\u001b[49m\u001b[43m)\u001b[49m\n",
      "File \u001b[0;32m/Library/Frameworks/Python.framework/Versions/3.10/lib/python3.10/site-packages/IPython/core/magics/script.py:305\u001b[0m, in \u001b[0;36mScriptMagics.shebang\u001b[0;34m(self, line, cell)\u001b[0m\n\u001b[1;32m    300\u001b[0m \u001b[38;5;28;01mif\u001b[39;00m args\u001b[38;5;241m.\u001b[39mraise_error \u001b[38;5;129;01mand\u001b[39;00m p\u001b[38;5;241m.\u001b[39mreturncode \u001b[38;5;241m!=\u001b[39m \u001b[38;5;241m0\u001b[39m:\n\u001b[1;32m    301\u001b[0m     \u001b[38;5;66;03m# If we get here and p.returncode is still None, we must have\u001b[39;00m\n\u001b[1;32m    302\u001b[0m     \u001b[38;5;66;03m# killed it but not yet seen its return code. We don't wait for it,\u001b[39;00m\n\u001b[1;32m    303\u001b[0m     \u001b[38;5;66;03m# in case it's stuck in uninterruptible sleep. -9 = SIGKILL\u001b[39;00m\n\u001b[1;32m    304\u001b[0m     rc \u001b[38;5;241m=\u001b[39m p\u001b[38;5;241m.\u001b[39mreturncode \u001b[38;5;129;01mor\u001b[39;00m \u001b[38;5;241m-\u001b[39m\u001b[38;5;241m9\u001b[39m\n\u001b[0;32m--> 305\u001b[0m     \u001b[38;5;28;01mraise\u001b[39;00m CalledProcessError(rc, cell)\n",
      "\u001b[0;31mCalledProcessError\u001b[0m: Command 'b'\\npython3 example_script.py\\n'' returned non-zero exit status 1."
     ]
    }
   ],
   "source": [
    "%%bash\n",
    "\n",
    "python3 example_script.py"
   ]
  }
 ],
 "metadata": {
  "kernelspec": {
   "display_name": "Python 3",
   "language": "python",
   "name": "python3"
  },
  "language_info": {
   "codemirror_mode": {
    "name": "ipython",
    "version": 3
   },
   "file_extension": ".py",
   "mimetype": "text/x-python",
   "name": "python",
   "nbconvert_exporter": "python",
   "pygments_lexer": "ipython3",
   "version": "3.10.7"
  }
 },
 "nbformat": 4,
 "nbformat_minor": 2
}
