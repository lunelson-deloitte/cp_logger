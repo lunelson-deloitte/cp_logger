{
 "cells": [
  {
   "cell_type": "code",
   "execution_count": 1,
   "metadata": {},
   "outputs": [],
   "source": [
    "from cp_log import cp_init_log, cp_log, cp_summarize_log"
   ]
  },
  {
   "cell_type": "code",
   "execution_count": 2,
   "metadata": {},
   "outputs": [
    {
     "name": "stdout",
     "output_type": "stream",
     "text": [
      "19:52:35.66 CST | INFO     | ==================================================\n",
      "19:52:35.66 CST | INFO     | Date     : February 15, 2024\n",
      "19:52:35.66 CST | INFO     | Analytic : Journal Entry Testing\n",
      "19:52:35.66 CST | INFO     | Reviewer : Molly Meehan\n",
      "19:52:35.66 CST | INFO     | Preparer : Lucas Nelson\n",
      "19:52:35.66 CST | INFO     | ==================================================\n",
      "19:52:35.66 CST | DEBUG    | (random_operation) Adding two numbers\n",
      "19:52:40.38 CST | SUCCESS  | (random_operation) Completed (4.72s)\n",
      "19:52:40.38 CST | DEBUG    | (random_operation) Adding two numbers\n",
      "19:52:44.86 CST | SUCCESS  | (random_operation) Completed (4.48s)\n",
      "19:52:44.87 CST | INFO     | ==================================================\n",
      "19:52:44.87 CST | INFO     | Script completed in 9.20s\n",
      "19:52:44.87 CST | INFO     | ERROR 0\tWARNING 0\tSUCCESS 2\n",
      "19:52:44.87 CST | INFO     | ==================================================\n"
     ]
    }
   ],
   "source": [
    "import sys\n",
    "from loguru import logger\n",
    "from datetime import datetime\n",
    "import time\n",
    "import random\n",
    "\n",
    "\n",
    "OUTPUT_LOGS = False\n",
    "\n",
    "### user does not see any of this\n",
    "LOG_FORMAT = \"{time:HH:mm:ss.SS zz} | {level:<8} | {message}\"\n",
    "LOG_DELIM = r\"\\s*\\|\\s*\"\n",
    "LOG_CASTING_FUNCTIONS = {f:lambda x: x.strip() for f in ('time', 'level', 'message')}\n",
    "LOG_PATTERN = f\"(?P<time>.*){LOG_DELIM}(?P<level>.*){LOG_DELIM}\\((?P<function>.*)\\)(?P<message>.*)\"\n",
    "config = {\n",
    "    \"handlers\": [\n",
    "        {\"sink\": sys.stdout, \"format\":LOG_FORMAT},\n",
    "        {\"sink\": f\"{__name__}.log\", 'format':LOG_FORMAT, 'mode':'w'}\n",
    "    ],\n",
    "    \"extra\": {\n",
    "        \"Date\": datetime.today().strftime('%B %d, %Y'),\n",
    "        \"Analytic\": \"Journal Entry Testing\",\n",
    "        \"Preparer\": \"Lucas Nelson\",\n",
    "        \"Reviewer\": \"Molly Meehan\"\n",
    "    }\n",
    "}\n",
    "logger.configure(**config)\n",
    "cp_init_log(config['extra'])\n",
    "### user does not see any of this\n",
    "\n",
    "\n",
    "@cp_log(message='Adding two numbers', eval=True)\n",
    "def random_operation(x, y, z):\n",
    "    time.sleep(random.random() * 5)\n",
    "    return x + y / z\n",
    "\n",
    "random_operation(x=1, y=2, z=3)\n",
    "random_operation(x=1, y=2, z=3)\n",
    "# random_operation(x=1, y=2, z=3)\n",
    "# random_operation(x=1, y=2, z=0)\n",
    "\n",
    "parsed_log = list(logger.parse('__main__.log', pattern=LOG_PATTERN, cast=LOG_CASTING_FUNCTIONS))\n",
    "cp_summarize_log(parsed_log)"
   ]
  },
  {
   "cell_type": "code",
   "execution_count": 3,
   "metadata": {},
   "outputs": [
    {
     "name": "stdout",
     "output_type": "stream",
     "text": [
      "14:11:53.58 CST | INFO     | ==================================================\n",
      "14:11:53.58 CST | INFO     | Date     : February 18, 2024\n",
      "14:11:53.58 CST | INFO     | Analytic : Journal Entry Testing\n",
      "14:11:53.58 CST | INFO     | Reviewer : First Last\n",
      "14:11:53.58 CST | INFO     | Preparer : First Last\n",
      "14:11:53.58 CST | INFO     | ==================================================\n",
      "14:11:53.58 CST | DEBUG    | (prep_dataset) Universal prep for JE. Input: path/to/je.csv. Output: path/to/output/je.parquet.\n",
      "14:11:53.58 CST | DEBUG    | (load_data) Loading in data from 'path/to/je.csv'\n",
      "14:11:58.53 CST | SUCCESS  | (load_data) Completed (4.95s)\n",
      "14:12:16.80 CST | DEBUG    | (write_data) Writing `None` to `path/to/output/je.parquet`\n",
      "14:12:19.35 CST | SUCCESS  | (write_data) Completed (2.54s)\n",
      "14:12:19.35 CST | SUCCESS  | (prep_dataset) Completed (25.76s)\n",
      "14:12:19.35 CST | DEBUG    | (prep_dataset) Universal prep for TB. Input: path/to/tb.csv. Output: path/to/output/tb.parquet.\n",
      "14:12:19.35 CST | DEBUG    | (load_data) Loading in data from 'path/to/tb.csv'\n",
      "14:12:23.53 CST | SUCCESS  | (load_data) Completed (4.18s)\n",
      "14:12:26.66 CST | DEBUG    | (write_data) Writing `None` to `path/to/output/tb.parquet`\n",
      "14:12:28.92 CST | SUCCESS  | (write_data) Completed (2.26s)\n",
      "14:12:28.92 CST | SUCCESS  | (prep_dataset) Completed (9.57s)\n",
      "14:12:28.92 CST | DEBUG    | (prep_dataset) Universal prep for COA. Input: path/to/coa.csv. Output: path/to/output/coa.parquet.\n",
      "14:12:28.92 CST | DEBUG    | (load_data) Loading in data from 'path/to/coa.csv'\n",
      "14:12:30.47 CST | SUCCESS  | (load_data) Completed (1.55s)\n",
      "14:12:32.45 CST | DEBUG    | (write_data) Writing `None` to `path/to/output/coa.parquet`\n",
      "14:12:34.20 CST | SUCCESS  | (write_data) Completed (1.75s)\n",
      "14:12:34.20 CST | SUCCESS  | (prep_dataset) Completed (5.28s)\n",
      "14:12:34.21 CST | INFO     | ==================================================\n",
      "14:12:34.21 CST | INFO     | Script completed in 40.62s\n",
      "14:12:34.21 CST | INFO     | ERROR 0\tWARNING 0\tSUCCESS 9\n",
      "14:12:34.21 CST | INFO     | ==================================================\n"
     ]
    }
   ],
   "source": [
    "%%bash\n",
    "\n",
    "# python3 example_script.py\n",
    "python3 example_script_nested.py\n",
    "# python3 example_script_parallel.py"
   ]
  }
 ],
 "metadata": {
  "kernelspec": {
   "display_name": "Python 3",
   "language": "python",
   "name": "python3"
  },
  "language_info": {
   "codemirror_mode": {
    "name": "ipython",
    "version": 3
   },
   "file_extension": ".py",
   "mimetype": "text/x-python",
   "name": "python",
   "nbconvert_exporter": "python",
   "pygments_lexer": "ipython3",
   "version": "3.10.7"
  }
 },
 "nbformat": 4,
 "nbformat_minor": 2
}
