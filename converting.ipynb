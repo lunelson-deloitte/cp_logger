{
 "cells": [
  {
   "cell_type": "markdown",
   "metadata": {},
   "source": [
    "### **User Guide: `@cp_log`**\n",
    "\n",
    "The `@cp_log` function is a minimal, yet robust, function that offers detailed logging functionality.\n",
    "\n",
    "\n",
    "### **What is a decorator?**"
   ]
  },
  {
   "cell_type": "markdown",
   "metadata": {},
   "source": [
    "---\n",
    "\n",
    "### **Integrating `@cp_log`**\n",
    "\n",
    "Let's walk through an example showing how to utilize `@cp_log`. Assume we are working with the code below:"
   ]
  },
  {
   "cell_type": "code",
   "execution_count": null,
   "metadata": {},
   "outputs": [],
   "source": [
    "# read data from input file\n",
    "raw_data = cp.read(...)\n",
    "\n",
    "# process raw data\n",
    "processed_data = (\n",
    "    raw_data\n",
    "    .select(['Column 1', 'Column 2', ...])\n",
    "    .filter(col('Column 1') > 0)\n",
    ")\n",
    "\n",
    "# create/perform column mapping\n",
    "column_mapping = {\n",
    "    'account_number' : 'Column 2',\n",
    "    'net_amount_ec' : 'Column 1'\n",
    "}\n",
    "mapped_data = map_input_fields(processed_data, column_mapping)\n",
    "\n",
    "# write data to output file\n",
    "cp.write(mapped_data, ...)"
   ]
  },
  {
   "cell_type": "markdown",
   "metadata": {},
   "source": [
    "The first step in embracing `@cp_log` is to convert your existing code into a function(s). Functions are coding \"recipes\" - once defined, they deterministically receive, process, and return objects."
   ]
  },
  {
   "cell_type": "code",
   "execution_count": null,
   "metadata": {},
   "outputs": [],
   "source": [
    "def read_data(path):\n",
    "    # read data from input file\n",
    "    raw_data = cp.read(path)\n",
    "    return raw_data\n",
    "\n",
    "\n",
    "def process_data(data):\n",
    "    # process raw data\n",
    "    processed_data = (\n",
    "        data\n",
    "        .select(['Column 1', 'Column 2', ...])\n",
    "        .filter(col('Column 1') > 0)\n",
    "    )\n",
    "    return processed_data\n",
    "\n",
    "\n",
    "def map_data(data):\n",
    "    # create/perform column mapping\n",
    "    column_mapping = {\n",
    "        'account_number' : 'Column 2',\n",
    "        'net_amount_ec' : 'Column 1'\n",
    "    }\n",
    "    mapped_data = map_input_fields(data, column_mapping)\n",
    "    return mapped_data\n",
    "\n",
    "\n",
    "def write_data(data, path):\n",
    "    # write data to output file\n",
    "    cp.write(data, path)"
   ]
  },
  {
   "cell_type": "markdown",
   "metadata": {},
   "source": [
    "Let's compare this to the code we wrote previously.\n",
    "\n",
    "- **Defined sections**. Sure, we could comment our code or split it across multiple cells.\n",
    "\n",
    "- **Isolated environments**. Each function operates under its own environment. Although we define `data` and `path` parameters across multiple functions, each function will handle its `data` and `path` parameters in its own context, separate from the other functions.\n",
    "\n",
    "This structure is required for making use of `@cp_log`. "
   ]
  }
 ],
 "metadata": {
  "kernelspec": {
   "display_name": "Python 3",
   "language": "python",
   "name": "python3"
  },
  "language_info": {
   "name": "python",
   "version": "3.10.7"
  }
 },
 "nbformat": 4,
 "nbformat_minor": 2
}
